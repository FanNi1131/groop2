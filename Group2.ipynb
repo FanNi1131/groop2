{
  "nbformat": 4,
  "nbformat_minor": 0,
  "metadata": {
    "colab": {
      "provenance": []
    },
    "kernelspec": {
      "name": "python3",
      "display_name": "Python 3"
    },
    "language_info": {
      "name": "python"
    }
  },
  "cells": [
    {
      "cell_type": "markdown",
      "source": [
        "# Correlation01:The widespread application of AI technology enhances consumers' shopping experience and satisfaction."
      ],
      "metadata": {
        "id": "gRPG3Zoaj-HL"
      }
    },
    {
      "cell_type": "markdown",
      "source": [
        "# 📌 Hypotheses\n",
        "\n",
        "### **Alternative Hypothesis (H₁a)**\n",
        "> **\"The widespread application of AI technology enhances consumers' shopping experience and satisfaction.\"**\n",
        "\n",
        "### **Null Hypothesis (H₀a)**\n",
        "> **\"The widespread application of AI technology has no significant effect on consumers' shopping experience and satisfaction.\"**\n",
        "\n",
        "---\n",
        "\n",
        "# 📊 Relevant Variables in This Analysis\n",
        "\n",
        "## **1️⃣ Dependent Variable (Outcome)**\n",
        "- **`AI_Enhance_Experience`** (*Binary: 1 = YES, 0 = NO*)  \n",
        "  - Represents whether consumers believe that AI **improves their shopping experience**.\n",
        "\n",
        "## **2️⃣ Independent Variable (Predictor)**\n",
        "- **`AI_Tools_Used_Sum`** (*Numeric: Ranges from 0 to 3*)  \n",
        "  - This is the **total number of AI tools** a consumer has used.\n",
        "  - It is calculated as the sum of:\n",
        "    - 📌 **`AI_Tools_Used_Chatbots`** (*Binary: 1 = YES, 0 = NO*) – Uses AI chatbots for shopping.\n",
        "    - 📌 **`AI_Tools_Used_Virtual_Assistant`** (*Binary: 1 = YES, 0 = NO*) – Uses AI virtual assistants (Alexa, Siri, Google Assistant).\n",
        "    - 📌 **`AI_Tools_Used_Voice&Photo_Search`** (*Binary: 1 = YES, 0 = NO*) – Uses AI-powered voice or image search.\n",
        "\n",
        "## **3️⃣ Grouping Variable (Used for Comparison)**\n",
        "- **`AI_Tools_Usage_Group`** (*Binary: 1 = High AI Users, 0 = Low AI Users*)  \n",
        "  - Created by **splitting AI users into high and low usage groups** based on the median of `AI_Tools_Used_Sum`.  \n",
        "  - Used in the **Mann-Whitney U Test** to compare shopping experience between frequent and infrequent AI users.\n"
      ],
      "metadata": {
        "id": "UDHA7ZATV0zG"
      }
    },
    {
      "cell_type": "markdown",
      "source": [
        "Step01: upload the data"
      ],
      "metadata": {
        "id": "gOIZCG7qWtwM"
      }
    },
    {
      "cell_type": "code",
      "execution_count": null,
      "metadata": {
        "id": "ohsObEbjVmof",
        "colab": {
          "base_uri": "https://localhost:8080/"
        },
        "outputId": "c716c32b-50ec-4918-a1d9-dac0a9f23780"
      },
      "outputs": [
        {
          "output_type": "stream",
          "name": "stdout",
          "text": [
            "  Country Online_Consumer    Age Annual_Salary  Gender            Education  \\\n",
            "0   INDIA             YES  Gen X   Medium High  Female       Masters?Degree   \n",
            "1   INDIA             YES  Gen Z           Low    Male  University Graduate   \n",
            "2   INDIA             YES  Gen X   Medium High    Male  University Graduate   \n",
            "3   INDIA             YES  Gen X          High    Male  University Graduate   \n",
            "4   INDIA             YES  Gen Z           Low    Male  University Graduate   \n",
            "\n",
            "  Payment_Method_Credit/Debit Living_Region Online_Service_Preference  \\\n",
            "0                          NO  Metropolitan                        NO   \n",
            "1                         YES  Metropolitan                        NO   \n",
            "2                         YES   Rural Areas                       YES   \n",
            "3                         YES   Rural Areas                       YES   \n",
            "4                          NO   Rural Areas                       YES   \n",
            "\n",
            "  AI_Endorsement  ... AI_Tools_Used _Chatbots AI_Tools_Used_Virtual_Assistant  \\\n",
            "0            YES  ...                     YES                             YES   \n",
            "1            YES  ...                     YES                             YES   \n",
            "2            YES  ...                      NO                             YES   \n",
            "3            YES  ...                      NO                              NO   \n",
            "4            YES  ...                     YES                              NO   \n",
            "\n",
            "  AI_Tools_Used_Voice&Photo_Search Payment_Method_COD Payment_Method_Ewallet  \\\n",
            "0                              YES                YES                     NO   \n",
            "1                              YES                YES                    YES   \n",
            "2                               NO                YES                    YES   \n",
            "3                               NO                YES                    YES   \n",
            "4                               NO                YES                    YES   \n",
            "\n",
            "  Product_Category_Appliances Product_Category_Electronics  \\\n",
            "0                         YES                          YES   \n",
            "1                         YES                          YES   \n",
            "2                         YES                          YES   \n",
            "3                         YES                          YES   \n",
            "4                         YES                           NO   \n",
            "\n",
            "  Product_Category_Groceries Product_Category_Personal_Care  \\\n",
            "0                        YES                            YES   \n",
            "1                         NO                             NO   \n",
            "2                        YES                             NO   \n",
            "3                        YES                             NO   \n",
            "4                        YES                             NO   \n",
            "\n",
            "  Product_Category_Clothing  \n",
            "0                       YES  \n",
            "1                        NO  \n",
            "2                        NO  \n",
            "3                       YES  \n",
            "4                       YES  \n",
            "\n",
            "[5 rows x 23 columns]\n"
          ]
        }
      ],
      "source": [
        "import pandas as pd\n",
        "import scipy.stats as stats\n",
        "import matplotlib.pyplot as plt\n",
        "import seaborn as sns\n",
        "\n",
        "# upload csv\n",
        "file_path = '/content/AI in Retail Dataset.csv'\n",
        "df = pd.read_csv(file_path)\n",
        "\n",
        "print(data.head())"
      ]
    },
    {
      "cell_type": "markdown",
      "source": [
        "Step02: Data Cleaning and Processing"
      ],
      "metadata": {
        "id": "zDiJelGgeC6Q"
      }
    },
    {
      "cell_type": "code",
      "source": [
        "# Remove extra spaces from column names\n",
        "df.columns = df.columns.str.strip()\n",
        "\n",
        "# Rename incorrectly formatted column\n",
        "df.rename(columns={'AI_Tools_Used _Chatbots': 'AI_Tools_Used_Chatbots'}, inplace=True)\n",
        "\n",
        "# Define relevant columns\n",
        "ai_experience_column = 'AI_Enhance_Experience'\n",
        "ai_tools_columns = ['AI_Tools_Used_Chatbots', 'AI_Tools_Used_Virtual_Assistant', 'AI_Tools_Used_Voice&Photo_Search']\n",
        "\n",
        "# Convert 'YES'/'NO' to 1/0 for numerical analysis\n",
        "for col in ai_tools_columns + [ai_experience_column]:\n",
        "    df = df[df[col].isin(['YES', 'NO'])]  # Keep only 'YES'/'NO' values\n",
        "    df[col] = df[col].map({'YES': 1, 'NO': 0})\n",
        "\n",
        "# Create a new column for AI tool usage sum (0 to 3)\n",
        "df['AI_Tools_Used_Sum'] = df[ai_tools_columns].sum(axis=1)\n",
        "\n",
        "# Show cleaned data\n",
        "df.info(), df.head()"
      ],
      "metadata": {
        "id": "IE6jjoNyWpWa",
        "colab": {
          "base_uri": "https://localhost:8080/"
        },
        "outputId": "da6ea40f-82dc-450e-869c-72ac9d7ac73c"
      },
      "execution_count": null,
      "outputs": [
        {
          "output_type": "stream",
          "name": "stdout",
          "text": [
            "<class 'pandas.core.frame.DataFrame'>\n",
            "RangeIndex: 656 entries, 0 to 655\n",
            "Data columns (total 24 columns):\n",
            " #   Column                            Non-Null Count  Dtype \n",
            "---  ------                            --------------  ----- \n",
            " 0   Country                           656 non-null    object\n",
            " 1   Online_Consumer                   656 non-null    object\n",
            " 2   Age                               656 non-null    object\n",
            " 3   Annual_Salary                     656 non-null    object\n",
            " 4   Gender                            656 non-null    object\n",
            " 5   Education                         656 non-null    object\n",
            " 6   Payment_Method_Credit/Debit       656 non-null    object\n",
            " 7   Living_Region                     656 non-null    object\n",
            " 8   Online_Service_Preference         656 non-null    object\n",
            " 9   AI_Endorsement                    656 non-null    object\n",
            " 10  AI_Privacy_No_Trust               656 non-null    object\n",
            " 11  AI_Enhance_Experience             656 non-null    int64 \n",
            " 12  AI_Satisfication                  656 non-null    object\n",
            " 13  AI_Tools_Used_Chatbots            656 non-null    int64 \n",
            " 14  AI_Tools_Used_Virtual_Assistant   656 non-null    int64 \n",
            " 15  AI_Tools_Used_Voice&Photo_Search  656 non-null    int64 \n",
            " 16  Payment_Method_COD                656 non-null    object\n",
            " 17  Payment_Method_Ewallet            656 non-null    object\n",
            " 18  Product_Category_Appliances       656 non-null    object\n",
            " 19  Product_Category_Electronics      656 non-null    object\n",
            " 20  Product_Category_Groceries        656 non-null    object\n",
            " 21  Product_Category_Personal_Care    656 non-null    object\n",
            " 22  Product_Category_Clothing         656 non-null    object\n",
            " 23  AI_Tools_Used_Sum                 656 non-null    int64 \n",
            "dtypes: int64(5), object(19)\n",
            "memory usage: 123.1+ KB\n"
          ]
        },
        {
          "output_type": "execute_result",
          "data": {
            "text/plain": [
              "(None,\n",
              "   Country Online_Consumer    Age Annual_Salary  Gender            Education  \\\n",
              " 0   INDIA             YES  Gen X   Medium High  Female       Masters?Degree   \n",
              " 1   INDIA             YES  Gen Z           Low    Male  University Graduate   \n",
              " 2   INDIA             YES  Gen X   Medium High    Male  University Graduate   \n",
              " 3   INDIA             YES  Gen X          High    Male  University Graduate   \n",
              " 4   INDIA             YES  Gen Z           Low    Male  University Graduate   \n",
              " \n",
              "   Payment_Method_Credit/Debit Living_Region Online_Service_Preference  \\\n",
              " 0                          NO  Metropolitan                        NO   \n",
              " 1                         YES  Metropolitan                        NO   \n",
              " 2                         YES   Rural Areas                       YES   \n",
              " 3                         YES   Rural Areas                       YES   \n",
              " 4                          NO   Rural Areas                       YES   \n",
              " \n",
              "   AI_Endorsement  ... AI_Tools_Used_Virtual_Assistant  \\\n",
              " 0            YES  ...                               1   \n",
              " 1            YES  ...                               1   \n",
              " 2            YES  ...                               1   \n",
              " 3            YES  ...                               0   \n",
              " 4            YES  ...                               0   \n",
              " \n",
              "    AI_Tools_Used_Voice&Photo_Search Payment_Method_COD  \\\n",
              " 0                                 1                YES   \n",
              " 1                                 1                YES   \n",
              " 2                                 0                YES   \n",
              " 3                                 0                YES   \n",
              " 4                                 0                YES   \n",
              " \n",
              "    Payment_Method_Ewallet  Product_Category_Appliances  \\\n",
              " 0                      NO                          YES   \n",
              " 1                     YES                          YES   \n",
              " 2                     YES                          YES   \n",
              " 3                     YES                          YES   \n",
              " 4                     YES                          YES   \n",
              " \n",
              "    Product_Category_Electronics Product_Category_Groceries  \\\n",
              " 0                           YES                        YES   \n",
              " 1                           YES                         NO   \n",
              " 2                           YES                        YES   \n",
              " 3                           YES                        YES   \n",
              " 4                            NO                        YES   \n",
              " \n",
              "   Product_Category_Personal_Care Product_Category_Clothing AI_Tools_Used_Sum  \n",
              " 0                            YES                       YES                 3  \n",
              " 1                             NO                        NO                 3  \n",
              " 2                             NO                        NO                 1  \n",
              " 3                             NO                       YES                 0  \n",
              " 4                             NO                       YES                 1  \n",
              " \n",
              " [5 rows x 24 columns])"
            ]
          },
          "metadata": {},
          "execution_count": 13
        }
      ]
    },
    {
      "cell_type": "markdown",
      "source": [
        "Step03: Normality Test(Shapiro-Wilk Test)"
      ],
      "metadata": {
        "id": "QLb_3glbe0qA"
      }
    },
    {
      "cell_type": "code",
      "source": [
        "from scipy.stats import shapiro\n",
        "\n",
        "# Normality test for AI Tool Usage (Independent Variable)\n",
        "shapiro_ai_usage = shapiro(df['AI_Tools_Used_Sum'])\n",
        "\n",
        "# Normality test for Shopping Experience Enhancement (Dependent Variable)\n",
        "shapiro_ai_experience = shapiro(df['AI_Enhance_Experience'])\n",
        "\n",
        "print(f\"Shapiro-Wilk test for AI Tools Used: Statistic={shapiro_ai_usage[0]}, p-value={shapiro_ai_usage[1]}\")\n",
        "print(f\"Shapiro-Wilk test for Shopping Experience Enhancement: Statistic={shapiro_ai_experience[0]}, p-value={shapiro_ai_experience[1]}\")"
      ],
      "metadata": {
        "colab": {
          "base_uri": "https://localhost:8080/"
        },
        "id": "QqG3XyABeNZq",
        "outputId": "80f03a93-c876-45cc-e668-1637e4894ea5"
      },
      "execution_count": null,
      "outputs": [
        {
          "output_type": "stream",
          "name": "stdout",
          "text": [
            "Shapiro-Wilk test for AI Tools Used: Statistic=0.8707464784293246, p-value=7.245276370483079e-23\n",
            "Shapiro-Wilk test for Shopping Experience Enhancement: Statistic=0.4275509673523571, p-value=3.236643267159215e-41\n"
          ]
        }
      ]
    },
    {
      "cell_type": "markdown",
      "source": [
        " Step04: Variance Homogeneity Test (Levene’s Test)"
      ],
      "metadata": {
        "id": "yPrzM5vfgNzv"
      }
    },
    {
      "cell_type": "code",
      "source": [
        "from scipy.stats import levene\n",
        "\n",
        "# Splitting the data into high and low AI usage groups\n",
        "median_ai_usage = df['AI_Tools_Used_Sum'].median()\n",
        "high_ai_users = df[df['AI_Tools_Used_Sum'] > median_ai_usage]['AI_Enhance_Experience']\n",
        "low_ai_users = df[df['AI_Tools_Used_Sum'] <= median_ai_usage]['AI_Enhance_Experience']\n",
        "\n",
        "# Levene's Test for Equality of Variances\n",
        "levene_stat, levene_p = levene(high_ai_users, low_ai_users)\n",
        "\n",
        "print(f\"Levene’s test for variance equality: Statistic={levene_stat}, p-value={levene_p}\")\n"
      ],
      "metadata": {
        "colab": {
          "base_uri": "https://localhost:8080/"
        },
        "id": "1GoBkGm5e7ob",
        "outputId": "7101aca5-6d95-43cf-970c-c17dfb695e84"
      },
      "execution_count": null,
      "outputs": [
        {
          "output_type": "stream",
          "name": "stdout",
          "text": [
            "Levene’s test for variance equality: Statistic=6.650829906146475, p-value=0.010128320390217297\n"
          ]
        }
      ]
    },
    {
      "cell_type": "markdown",
      "source": [
        "# 📌 Selection of Final Statistical Tests Based on Normality and Variance Tests\n",
        "\n",
        "To ensure the validity of our statistical analysis, we first conducted **normality and variance homogeneity tests** before selecting the appropriate methods for hypothesis testing.\n",
        "\n",
        "---\n",
        "\n",
        "## **1️⃣ Normality Test (Shapiro-Wilk Test) Results**\n",
        "- **AI Tools Used** (*p-value = 7.25e-23*) → ❌ *Not Normally Distributed*  \n",
        "- **Shopping Experience Enhancement** (*p-value = 3.24e-41*) → ❌ *Not Normally Distributed*  \n",
        "\n",
        "📌 Since both variables **do not follow a normal distribution** (*p-value < 0.05*), we **cannot use parametric tests** such as **Pearson correlation** or **Student’s t-test**. Instead, we must use **non-parametric alternatives**.\n",
        "\n",
        "---\n",
        "\n",
        "## **2️⃣ Variance Homogeneity Test (Levene’s Test) Results**\n",
        "- **Levene’s test p-value = 0.0101** → ❌ *Variances are not equal*  \n",
        "\n",
        "📌 The **variances between high and low AI tool users are significantly different** (*p-value < 0.05*).  \n",
        "🚫 This **rules out** the assumption of equal variances required for a **Student’s t-test**, meaning we should use a **variance-adjusted test**.\n",
        "\n",
        "---\n",
        "\n",
        "## **3️⃣ Selection of Final Statistical Tests**\n",
        "| **Test Type**         | **Normality Result** | **Variance Result**     | **Selected Test**                                      |\n",
        "|----------------------|-------------------|----------------------|--------------------------------------------------|\n",
        "| **Correlation Analysis** | ❌ *Not Normal*     | -                    | **Spearman Correlation** (non-parametric alternative to Pearson) |\n",
        "| **Group Comparison**   | ❌ *Not Normal*     | ❌ *Unequal Variance* | **Mann-Whitney U Test** (non-parametric alternative to t-test) |\n",
        "\n",
        "📌 Since:\n",
        "- The data is **not normally distributed**, we use **Spearman Correlation** instead of Pearson Correlation.\n",
        "- The **variances between groups are not equal**, and the data is **non-normal**, we use **Mann-Whitney U Test** instead of a t-test.\n",
        "\n",
        "---\n",
        "\n",
        "## **📌 Final Decision**\n",
        "✔ **To analyze the correlation** between AI tool usage and shopping experience enhancement:  \n",
        "   → **Spearman Correlation Test** (*since the data is non-normal*).\n",
        "\n",
        "✔ **To compare shopping experience** between high and low AI tool users:  \n",
        "   → **Mann-Whitney U Test** (*since the data is non-normal and variances are unequal*).\n"
      ],
      "metadata": {
        "id": "tYhvJwEPhWZ8"
      }
    },
    {
      "cell_type": "markdown",
      "source": [
        "Stop05:Spearman Correlation"
      ],
      "metadata": {
        "id": "BDmxYoWBifZ3"
      }
    },
    {
      "cell_type": "code",
      "source": [
        "from scipy.stats import spearmanr\n",
        "\n",
        "# Compute Spearman correlation\n",
        "spearman_corr, spearman_p = spearmanr(df['AI_Tools_Used_Sum'], df['AI_Enhance_Experience'])\n",
        "\n",
        "# Print results\n",
        "print(\"📌 **Spearman Correlation Test**\")\n",
        "print(f\"- Spearman correlation: {spearman_corr:.4f}, p-value: {spearman_p:.4f}\")\n",
        "\n",
        "# Interpretation\n",
        "if spearman_p < 0.05:\n",
        "    print(\"✅ AI tool usage **significantly correlates** with shopping experience enhancement.\")\n",
        "else:\n",
        "    print(\"❌ No significant correlation between AI tool usage and shopping experience enhancement.\")\n"
      ],
      "metadata": {
        "colab": {
          "base_uri": "https://localhost:8080/"
        },
        "id": "LHIJB8-XgWWP",
        "outputId": "920feab8-3763-48a2-ae67-ef2689a8941a"
      },
      "execution_count": null,
      "outputs": [
        {
          "output_type": "stream",
          "name": "stdout",
          "text": [
            "📌 **Spearman Correlation Test**\n",
            "- Spearman correlation: 0.0829, p-value: 0.0337\n",
            "✅ AI tool usage **significantly correlates** with shopping experience enhancement.\n"
          ]
        }
      ]
    },
    {
      "cell_type": "markdown",
      "source": [
        "Stop06:Mann-Whitney U Test"
      ],
      "metadata": {
        "id": "7thVYNADirz6"
      }
    },
    {
      "cell_type": "code",
      "source": [
        "from scipy.stats import mannwhitneyu\n",
        "\n",
        "# Split the data into high and low AI usage groups based on median\n",
        "median_ai_usage = df['AI_Tools_Used_Sum'].median()\n",
        "high_ai_users = df[df['AI_Tools_Used_Sum'] > median_ai_usage]['AI_Enhance_Experience']\n",
        "low_ai_users = df[df['AI_Tools_Used_Sum'] <= median_ai_usage]['AI_Enhance_Experience']\n",
        "\n",
        "# Perform Mann-Whitney U Test\n",
        "mann_u_stat, mann_u_p = mannwhitneyu(high_ai_users, low_ai_users, alternative='two-sided')\n",
        "\n",
        "# Print results\n",
        "print(\"\\n📌 **Mann-Whitney U Test**\")\n",
        "print(f\"- U statistic: {mann_u_stat:.4f}, p-value: {mann_u_p:.4f}\")\n",
        "\n",
        "# Interpretation\n",
        "if mann_u_p < 0.05:\n",
        "    print(\"✅ **Significant difference** in shopping experience between high and low AI tool users.\")\n",
        "else:\n",
        "    print(\"❌ No significant difference in shopping experience between high and low AI tool users.\")\n"
      ],
      "metadata": {
        "colab": {
          "base_uri": "https://localhost:8080/"
        },
        "id": "oi2eHc3PiaVX",
        "outputId": "69ef381c-b98a-475b-b050-9ac2362f417a"
      },
      "execution_count": null,
      "outputs": [
        {
          "output_type": "stream",
          "name": "stdout",
          "text": [
            "\n",
            "📌 **Mann-Whitney U Test**\n",
            "- U statistic: 55399.0000, p-value: 0.0102\n",
            "✅ **Significant difference** in shopping experience between high and low AI tool users.\n"
          ]
        }
      ]
    },
    {
      "cell_type": "markdown",
      "source": [
        "Final Statistical Test Results & Interpretation：\n",
        "\n",
        "1️⃣ Spearman Correlation Analysis\n",
        "Spearman correlation coefficient = 0.0829\n",
        "p-value = 0.0337 ✅ Significant (p < 0.05)\n",
        "✔ Interpretation:\n",
        "There is a weak but statistically significant positive correlation between AI tool usage and shopping experience enhancement. This suggests that higher AI tool usage is associated with an improved shopping experience, but the effect size is small.\n",
        "\n",
        "2️⃣ Mann-Whitney U Test\n",
        "U statistic = 55399.0000\n",
        "p-value = 0.0102 ✅ Significant (p < 0.05)\n",
        "✔ Interpretation:\n",
        "There is a statistically significant difference in shopping experience enhancement between high and low AI tool users. This indicates that consumers who use AI tools more frequently report a better shopping experience compared to those who use AI tools less frequently.\n",
        "\n",
        "📌 Conclusion: Hypothesis Testing Results\n",
        "Hypothesis\tSupported?\n",
        "**H₁a: \"The widespread application of AI technology enhances consumers' shopping experience and satisfaction.\"\t**✅ Supported\n",
        "\n",
        "✔ Final Verdict: Our data supports the hypothesis that higher AI usage is associated with an improved shopping experience. However, the correlation is relatively weak, meaning other factors may also influence shopping experience enhancement."
      ],
      "metadata": {
        "id": "y3wNOuoKjMMU"
      }
    },
    {
      "cell_type": "markdown",
      "source": [
        "\n",
        "\n",
        "---\n",
        "\n"
      ],
      "metadata": {
        "id": "KIMCXYagscDY"
      }
    },
    {
      "cell_type": "markdown",
      "source": [
        "# Correlation02:Consumers who use AI technology are more likely to recognize AI"
      ],
      "metadata": {
        "id": "U7RU96zEsd9v"
      }
    },
    {
      "cell_type": "markdown",
      "source": [
        "# 📌 Hypotheses\n",
        "\n",
        "### **Alternative Hypothesis (H₁b)**\n",
        "> **\"Consumers who use AI technology are more likely to recognize AI.\"**\n",
        "\n",
        "### **Null Hypothesis (H₀b)**\n",
        "> **\"There is no significant relationship between AI technology application level and users' trust in AI.\"**\n",
        "\n",
        "---\n",
        "\n",
        "# 📊 Relevant Variables in This Analysis\n",
        "\n",
        "## **1️⃣ Dependent Variable (Outcome)**\n",
        "AI trust (AI_Privacy_No_Trust)\n",
        "## **2️⃣ Independent Variable (Predictor)**\n",
        "degree of adoption of AI technology (calculated by combining the use of the three AI tools)\n"
      ],
      "metadata": {
        "id": "khKspXAfuOtS"
      }
    },
    {
      "cell_type": "markdown",
      "source": [
        "Step01: upload the data"
      ],
      "metadata": {
        "id": "jnJfXiBeuXhc"
      }
    },
    {
      "cell_type": "code",
      "source": [
        "# Import required libraries\n",
        "import pandas as pd\n",
        "import numpy as np\n",
        "import matplotlib.pyplot as plt\n",
        "import seaborn as sns\n",
        "from scipy import stats\n",
        "from scipy.stats import shapiro\n",
        "from scipy.stats import levene\n",
        "import warnings\n",
        "warnings.filterwarnings('ignore')\n",
        "\n",
        "# Read data\n",
        "df = pd.read_csv('AI in Retail Dataset.csv')\n",
        "\n",
        "# Check column names to ensure we use correct names\n",
        "print(\"Dataset column names:\")\n",
        "print(df.columns.tolist())"
      ],
      "metadata": {
        "id": "hq3mj9hXiwbx",
        "colab": {
          "base_uri": "https://localhost:8080/"
        },
        "outputId": "5edfd9e2-ca45-4011-f603-3342b7593787"
      },
      "execution_count": null,
      "outputs": [
        {
          "output_type": "stream",
          "name": "stdout",
          "text": [
            "Dataset column names:\n",
            "['Country', 'Online_Consumer', 'Age', 'Annual_Salary', 'Gender', 'Education', 'Payment_Method_Credit/Debit', 'Living_Region', 'Online_Service_Preference', 'AI_Endorsement', 'AI_Privacy_No_Trust ', 'AI_Enhance_Experience', 'AI_Satisfication', 'AI_Tools_Used _Chatbots', 'AI_Tools_Used_Virtual_Assistant', 'AI_Tools_Used_Voice&Photo_Search', 'Payment_Method_COD', 'Payment_Method_Ewallet', 'Product_Category_Appliances', 'Product_Category_Electronics', 'Product_Category_Groceries', 'Product_Category_Personal_Care', 'Product_Category_Clothing']\n"
          ]
        }
      ]
    },
    {
      "cell_type": "markdown",
      "source": [
        "Step02: Data Cleaning and Processing"
      ],
      "metadata": {
        "id": "zkdRNINdulru"
      }
    },
    {
      "cell_type": "code",
      "source": [
        "# Convert YES/NO to 1/0\n",
        "df['AI_Tools_Used _Chatbots'] = (df['AI_Tools_Used _Chatbots'] == 'YES').astype(int)\n",
        "df['AI_Tools_Used_Virtual_Assistant'] = (df['AI_Tools_Used_Virtual_Assistant'] == 'YES').astype(int)\n",
        "df['AI_Tools_Used_Voice&Photo_Search'] = (df['AI_Tools_Used_Voice&Photo_Search'] == 'YES').astype(int)\n",
        "df['AI_Privacy_No_Trust '] = (df['AI_Privacy_No_Trust '] == 'YES').astype(int)  # Note the space here\n",
        "\n",
        "# Define independent and dependent variables\n",
        "# Independent variables: AI_Tools_Used_Chatbots, AI_Tools_Used_Virtual_Assistant, AI_Tools_Used_Voice&Photo_Search\n",
        "# These variables represent the degree of AI technology application\n",
        "# Dependent variable: AI_Privacy_No_Trust (reverse coded, 1 means distrust, 0 means trust)\n",
        "\n",
        "# Calculate total AI tools usage as indicator of AI application level\n",
        "df['AI_Usage_Score'] = df['AI_Tools_Used _Chatbots'] + \\\n",
        "                      df['AI_Tools_Used_Virtual_Assistant'] + \\\n",
        "                      df['AI_Tools_Used_Voice&Photo_Search']\n",
        "\n",
        "# Data cleaning\n",
        "# Check missing values\n",
        "print(\"\\nMissing value statistics:\")\n",
        "print(df[['AI_Usage_Score', 'AI_Privacy_No_Trust ']].isnull().sum())\n"
      ],
      "metadata": {
        "colab": {
          "base_uri": "https://localhost:8080/"
        },
        "id": "w2nKHSqvup9Z",
        "outputId": "c39313b3-264f-4763-98df-19fc112ac70e"
      },
      "execution_count": null,
      "outputs": [
        {
          "output_type": "stream",
          "name": "stdout",
          "text": [
            "\n",
            "Missing value statistics:\n",
            "AI_Usage_Score          0\n",
            "AI_Privacy_No_Trust     0\n",
            "dtype: int64\n"
          ]
        }
      ]
    },
    {
      "cell_type": "markdown",
      "source": [
        "Step03: Normality Test(Shapiro-Wilk Test)"
      ],
      "metadata": {
        "id": "09ZRamgjvZ7W"
      }
    },
    {
      "cell_type": "code",
      "source": [
        "# Normality test\n",
        "# Using Q-Q plot and Shapiro-Wilk test\n",
        "plt.figure(figsize=(10, 6))\n",
        "stats.probplot(df['AI_Usage_Score'], dist=\"norm\", plot=plt)\n",
        "plt.title(\"AI Usage Score Q-Q Plot\")\n",
        "plt.show()\n",
        "\n",
        "# Shapiro-Wilk test\n",
        "print(\"\\nShapiro-Wilk Normality Test Results:\")\n",
        "stat, p_value = shapiro(df['AI_Usage_Score'])\n",
        "print(f\"AI Usage Score - Statistic: {stat:.4f}, p-value: {p_value:.4f}\")"
      ],
      "metadata": {
        "id": "1HEjYEQ-sNul",
        "colab": {
          "base_uri": "https://localhost:8080/",
          "height": 618
        },
        "outputId": "e5be4cc5-fd69-4098-a379-dd33ee9758d4"
      },
      "execution_count": null,
      "outputs": [
        {
          "output_type": "display_data",
          "data": {
            "text/plain": [
              "<Figure size 1000x600 with 1 Axes>"
            ],
            "image/png": "[encoded data removed]"
          },
          "metadata": {}
        },
        {
          "output_type": "stream",
          "name": "stdout",
          "text": [
            "\n",
            "Shapiro-Wilk Normality Test Results:\n",
            "AI Usage Score - Statistic: 0.8707, p-value: 0.0000\n"
          ]
        }
      ]
    },
    {
      "cell_type": "markdown",
      "source": [
        "Step04: Variance Homogeneity Test (Levene’s Test)"
      ],
      "metadata": {
        "id": "th7DXlP0xZJh"
      }
    },
    {
      "cell_type": "code",
      "source": [
        "# Levene's test for homogeneity of variance\n",
        "print(\"Levene's Test for Homogeneity of Variance:\")\n",
        "# Create groups based on AI usage score\n",
        "groups = [group for _, group in df.groupby('AI_Usage_Score')['AI_Privacy_No_Trust ']]\n",
        "stat, p_value = levene(*groups)\n",
        "print(f\"Statistic: {stat:.4f}, p-value: {p_value:.4f}\")\n",
        "print(\"H0: The variances are equal across all groups\")\n",
        "print(\"H1: The variances are not equal across all groups\")\n",
        "if p_value < 0.05:\n",
        "  print(\"Result: Reject H0 - The variances are not equal (heteroscedasticity)\")\n",
        "else:\n",
        "  print(\"Result: Fail to reject H0 - The variances are equal (homoscedasticity)\")\n",
        "\n",
        "# Display variance for each group for better understanding\n",
        "print(\"\\nVariance for each AI usage level:\")\n",
        "variance_by_group = df.groupby('AI_Usage_Score')['AI_Privacy_No_Trust '].var()\n",
        "print(variance_by_group)"
      ],
      "metadata": {
        "id": "LmKATjdWngWf",
        "colab": {
          "base_uri": "https://localhost:8080/"
        },
        "outputId": "d798128d-e5de-4a9c-e9dd-47cabe7802b5"
      },
      "execution_count": null,
      "outputs": [
        {
          "output_type": "stream",
          "name": "stdout",
          "text": [
            "Levene's Test for Homogeneity of Variance:\n",
            "Statistic: 0.4465, p-value: 0.7198\n",
            "H0: The variances are equal across all groups\n",
            "H1: The variances are not equal across all groups\n",
            "Result: Fail to reject H0 - The variances are equal (homoscedasticity)\n",
            "\n",
            "Variance for each AI usage level:\n",
            "AI_Usage_Score\n",
            "0    0.193865\n",
            "1    0.194208\n",
            "2    0.205642\n",
            "3    0.219536\n",
            "Name: AI_Privacy_No_Trust , dtype: float64\n"
          ]
        }
      ]
    },
    {
      "cell_type": "markdown",
      "source": [
        "# 📌 Selection of Final Statistical Tests Based on Normality and Variance Tests\n",
        "\n",
        "To ensure the validity of our statistical analysis, we first examined the **normality** and **variance homogeneity** of our data.\n",
        "\n",
        "---\n",
        "\n",
        "## **1️⃣ Normality Test (Shapiro-Wilk Test)**\n",
        "| **Variable** | **Statistic (W)** | **p-value** | **Normality?** |\n",
        "|-------------|------------------|------------|-----------------|\n",
        "| **AI Usage Score (`AI_Tools_Used_Sum`)** | **0.8707** | **0.0000** ❌ | *Not Normally Distributed* |\n",
        "\n",
        "📌 **Interpretation**:  \n",
        "- Since **p-value < 0.05**, we **reject the null hypothesis of normality**.  \n",
        "- This means that **`AI_Tools_Used_Sum` is not normally distributed**.  \n",
        "- **We must use non-parametric statistical tests** instead of parametric tests like Pearson correlation or t-tests.\n",
        "\n",
        "---\n",
        "\n",
        "## **2️⃣ Variance Homogeneity Test (Levene’s Test)**\n",
        "| **Test** | **Statistic** | **p-value** | **Equal Variance?** |\n",
        "|----------|-------------|------------|-----------------|\n",
        "| **Levene’s Test** | **0.4465** | **0.7198** ✅ | *Equal Variance* |\n",
        "\n",
        "📌 **Interpretation**:  \n",
        "- Since **p-value = 0.7198** (> 0.05), we **fail to reject the null hypothesis**, meaning **the variances between groups are equal**.\n",
        "- **Equal variance allows us to use tests that assume homogeneity** if the data were normal.\n",
        "- However, **since normality is violated**, we still need non-parametric methods.\n",
        "\n",
        "---\n",
        "\n",
        "## **📌 Final Statistical Test Selection**\n",
        "| **Test Type** | **Normality Result** | **Variance Result** | **Selected Test** |\n",
        "|--------------|-----------------|----------------|------------------|\n",
        "| **Correlation Analysis** | ❌ Not Normal | - | **Spearman Correlation** (non-parametric alternative to Pearson) |\n",
        "| **Group Comparison** | ❌ Not Normal | ✅ Equal Variance | **Mann-Whitney U Test** (non-parametric alternative to t-test) |\n",
        "\n",
        "📌 **Final Decision**:\n",
        "✔ **To analyze the correlation** between AI usage and AI trust:  \n",
        "   → **Spearman Correlation** (*since data is non-normal*).  \n",
        "\n",
        "✔ **To compare AI trust between high and low AI users:**  \n",
        "   → **Mann-Whitney U Test** (*since data is non-normal but variances are equal*).  \n"
      ],
      "metadata": {
        "id": "ajqVFAqZ0NE_"
      }
    },
    {
      "cell_type": "markdown",
      "source": [
        "Stop05:Spearman Correlation & Mann-Whitney U Test"
      ],
      "metadata": {
        "id": "RLiFLsVQ03GF"
      }
    },
    {
      "cell_type": "code",
      "source": [
        "\n",
        "# Step 1: Perform Spearman Correlation Analysis with the correct column name\n",
        "spearman_corr, spearman_p = spearmanr(df['AI_Usage_Score'], df['AI_Privacy_No_Trust '])\n",
        "# Step 2: Perform Mann-Whitney U Test (Comparing High vs. Low AI Users on AI Trust Level)\n",
        "# Split data into high and low AI users based on median AI usage score\n",
        "median_ai_usage = df['AI_Usage_Score'].median()\n",
        "high_ai_users = df[df['AI_Usage_Score'] > median_ai_usage]['AI_Privacy_No_Trust ']\n",
        "low_ai_users = df[df['AI_Usage_Score'] <= median_ai_usage]['AI_Privacy_No_Trust ']\n",
        "\n",
        "# Perform Mann-Whitney U Test\n",
        "mann_u_stat, mann_u_p = mannwhitneyu(high_ai_users, low_ai_users, alternative='two-sided')\n",
        "\n",
        "# Print results\n",
        "print(\"📌 **Spearman Correlation Test**\")\n",
        "print(f\"- Spearman correlation: {spearman_corr:.4f}, p-value: {spearman_p:.4f}\")\n",
        "if spearman_p < 0.05:\n",
        "    print(\"✅ AI usage **significantly correlates** with AI trust level.\")\n",
        "else:\n",
        "    print(\"❌ No significant correlation between AI usage and AI trust level.\")\n",
        "\n",
        "print(\"\\n📌 **Mann-Whitney U Test**\")\n",
        "print(f\"- U statistic: {mann_u_stat:.4f}, p-value: {mann_u_p:.4f}\")\n",
        "if mann_u_p < 0.05:\n",
        "    print(\"✅ **Significant difference** in AI trust between high and low AI tool users.\")\n",
        "else:\n",
        "    print(\"❌ No significant difference in AI trust between high and low AI tool users.\")\n",
        "\n"
      ],
      "metadata": {
        "colab": {
          "base_uri": "https://localhost:8080/"
        },
        "id": "2C5F9hgAy3Y9",
        "outputId": "eb25efcf-a436-4c40-a75e-24216de5e456"
      },
      "execution_count": null,
      "outputs": [
        {
          "output_type": "stream",
          "name": "stdout",
          "text": [
            "📌 **Spearman Correlation Test**\n",
            "- Spearman correlation: -0.0403, p-value: 0.3023\n",
            "❌ No significant correlation between AI usage and AI trust level.\n",
            "\n",
            "📌 **Mann-Whitney U Test**\n",
            "- U statistic: 49741.0000, p-value: 0.3090\n",
            "❌ No significant difference in AI trust between high and low AI tool users.\n"
          ]
        }
      ]
    },
    {
      "cell_type": "markdown",
      "source": [
        "📌 Conclusion: Relationship Between AI Usage and AI Trust\n",
        "\n",
        "1️⃣ Key Findings\n",
        "\n",
        "We conducted two statistical tests to examine the hypothesis \"Consumers who use AI technology are more likely to recognize AI.\" However, both tests indicate no significant relationship between AI tool usage and AI trust levels.\n",
        "\n",
        "Spearman Correlation Test\n",
        "\n",
        "Correlation Coefficient (ρ) = -0.0403 → Indicates a very weak negative relationship between AI usage and AI trust.\n",
        "p-value = 0.3023 (> 0.05) → Not statistically significant, meaning no real correlation exists.\n",
        "Mann-Whitney U Test\n",
        "\n",
        "U statistic = 49741.0000, p-value = 0.3090 (> 0.05) → Not statistically significant, meaning AI trust levels do not significantly differ between frequent and infrequent AI users.\n",
        "\n",
        "2️⃣ Interpretation & Implications\n",
        "\n",
        "✅ Result: The findings reject the alternative hypothesis (H₁b) and support the null hypothesis (H₀b), which states that there is no significant relationship between AI usage and AI trust levels.\n",
        "\n",
        "📌 What This Means:\n",
        "\n",
        "Simply using AI tools does not necessarily lead to higher trust in AI.\n",
        "Other factors—such as privacy concerns, media exposure, personal experiences, or education level—may have a stronger influence on AI trust than direct AI usage.\n",
        "\n",
        "Trust in AI may be more complex and influenced by how AI is used, its perceived transparency, and ethical considerations rather than just the frequency of use.\n"
      ],
      "metadata": {
        "id": "sVvgePiw3k3n"
      }
    },
    {
      "cell_type": "markdown",
      "source": [
        "# **Correlation03: The unemployment rate of high-vulnerability occupations (those highly impacted by AI automation) is significantly higher than that of low-vulnerability occupations.**"
      ],
      "metadata": {
        "id": "2Kwq49rG4DaW"
      }
    },
    {
      "cell_type": "markdown",
      "source": [
        "# 📌 Hypotheses\n",
        "# - **Null hypothesis (H0):**\n",
        "There is no significant difference in unemployment rates between occupations with high vulnerability to AI automation and those with low vulnerability; that is, their unemployment rates are equal.\n",
        "\n",
        "# - **Alternative hypothesis (H1):**\n",
        " Occupations with high vulnerability to AI automation have significantly higher unemployment rates compared to occupations with low vulnerability.\n",
        "\n",
        "# **📌Independent Variable**：\n",
        "Vulnerability to AI Automation\n",
        "# **📌Dependent Variable：**\n",
        "Unemployment Rate"
      ],
      "metadata": {
        "id": "L9RpC1GX4IVn"
      }
    },
    {
      "cell_type": "markdown",
      "source": [
        "Step01: upload the data"
      ],
      "metadata": {
        "id": "B7-THKg24NFP"
      }
    },
    {
      "cell_type": "code",
      "source": [
        "import pandas as pd\n",
        "import scipy.stats as stats\n",
        "import matplotlib.pyplot as plt\n",
        "import seaborn as sns\n",
        "\n",
        "# upload csv\n",
        "file_path = '/content/unemployment dataset.csv'\n",
        "data = pd.read_csv(file_path)\n",
        "\n",
        "print(data.head())"
      ],
      "metadata": {
        "colab": {
          "base_uri": "https://localhost:8080/"
        },
        "id": "Mnda3P2B1SxF",
        "outputId": "497d1532-9f51-45fb-ac87-3ed120182403"
      },
      "execution_count": null,
      "outputs": [
        {
          "output_type": "stream",
          "name": "stdout",
          "text": [
            "   Jobs Lost  Jobs Remaining OCC_CODE  \\\n",
            "0  591644.40      9269095.60  11-0000   \n",
            "1  253317.40      3365502.60  11-1000   \n",
            "2  102636.45       874853.55  11-2000   \n",
            "3  626942.70      1695067.30  11-3000   \n",
            "4  176545.20      2765874.80  11-9000   \n",
            "\n",
            "                                           OCC_TITLE    TOT_EMP  dexterity  \\\n",
            "0                             Management Occupations  9860740.0       0.10   \n",
            "1                                     Top Executives  3618820.0       0.05   \n",
            "2  Advertising, Marketing, Promotions, Public Rel...   977490.0       0.05   \n",
            "3                    Operations Specialties Managers  2322010.0       0.05   \n",
            "4                       Other Management Occupations  2942420.0       0.10   \n",
            "\n",
            "                                         explanation  group  solo  \\\n",
            "0  Management occupations typically involve a hig...    0.6  0.30   \n",
            "1  Top executives' roles often involve a high deg...    0.6  0.35   \n",
            "2  The occupation of Advertising, Marketing, Prom...    0.6  0.35   \n",
            "3  Operations Specialties Managers often require ...    0.5  0.45   \n",
            "4  The occupation code 11-9000 refers to Other Ma...    0.6  0.30   \n",
            "\n",
            "   vulnerability  \n",
            "0            0.2  \n",
            "1            0.2  \n",
            "2            0.3  \n",
            "3            0.6  \n",
            "4            0.2  \n"
          ]
        }
      ]
    },
    {
      "cell_type": "markdown",
      "source": [
        "step02:Data filtering"
      ],
      "metadata": {
        "id": "v99texn44sY4"
      }
    },
    {
      "cell_type": "code",
      "source": [
        "# data filtering\n",
        "filtered_data = data[(data['vulnerability'] >= 0.5) & (data['TOT_EMP'] > 1_000_000)]\n",
        "\n",
        "# display the filtered data\n",
        "from IPython.display import display  # Import the display function\n",
        "display(filtered_data) # Display the filtered data using the display function"
      ],
      "metadata": {
        "colab": {
          "base_uri": "https://localhost:8080/",
          "height": 1000
        },
        "id": "bi5bbQfK4msT",
        "outputId": "a55fddfc-0a5f-4874-edab-09a73455aa8d"
      },
      "execution_count": null,
      "outputs": [
        {
          "output_type": "display_data",
          "data": {
            "text/plain": [
              "       Jobs Lost  Jobs Remaining OCC_CODE  \\\n",
              "3     626942.700    1.695067e+06  11-3000   \n",
              "5    3774310.800    5.903409e+06  13-0000   \n",
              "6    1798418.700    4.862391e+06  13-1000   \n",
              "7    1372694.050    1.644216e+06  13-2000   \n",
              "8    2802189.600    2.201720e+06  15-0000   \n",
              "9    2619400.000    2.058100e+06  15-1200   \n",
              "53    246516.900    3.275153e+06  35-2000   \n",
              "55     40618.500    1.313332e+06  35-9000   \n",
              "56    258981.000    4.057369e+06  37-0000   \n",
              "58    181591.200    2.844929e+06  37-2000   \n",
              "59     60069.600    9.410904e+05  37-3000   \n",
              "71   1061891.600    6.523048e+06  41-2000   \n",
              "73    328488.300    1.235742e+06  41-4000   \n",
              "75   7843403.400    1.083137e+07  43-0000   \n",
              "76    358905.600    1.136534e+06  43-1000   \n",
              "78   1680351.400    1.143769e+06  43-3000   \n",
              "79   3341496.200    2.274464e+06  43-4000   \n",
              "80   1107168.000    1.199432e+06  43-5000   \n",
              "81   1760925.600    1.383584e+06  43-6000   \n",
              "82   1358880.600    1.876549e+06  43-9000   \n",
              "87    364531.200    5.710989e+06  47-0000   \n",
              "93    524106.000    5.299294e+06  49-0000   \n",
              "96    172785.900    1.472794e+06  49-3000   \n",
              "97    327867.750    2.794682e+06  49-9000   \n",
              "98   1114219.950    7.624760e+06  51-0000   \n",
              "100   242748.525    1.661161e+06  51-2000   \n",
              "102   197310.000    1.446940e+06  51-4000   \n",
              "107   322822.350    2.209118e+06  51-9000   \n",
              "108  1728958.650    1.183150e+07  53-0000   \n",
              "111   366837.900    3.948902e+06  53-3000   \n",
              "115   671207.600    7.225352e+06  53-7000   \n",
              "\n",
              "                                             OCC_TITLE     TOT_EMP  dexterity  \\\n",
              "3                      Operations Specialties Managers   2322010.0       0.05   \n",
              "5        Business and Financial Operations Occupations   9677720.0       0.05   \n",
              "6                      Business Operations Specialists   6660810.0       0.05   \n",
              "7                                Financial Specialists   3016910.0       0.05   \n",
              "8                Computer and Mathematical Occupations   5003910.0       0.05   \n",
              "9                                 Computer Occupations   4677500.0       0.05   \n",
              "53                  Cooks and Food Preparation Workers   3521670.0       0.60   \n",
              "55   Other Food Preparation and Serving Related Wor...   1353950.0       0.65   \n",
              "56   Building and Grounds Cleaning and Maintenance ...   4316350.0       0.70   \n",
              "58          Building Cleaning and Pest Control Workers   3026520.0       0.70   \n",
              "59                         Grounds Maintenance Workers   1001160.0       0.70   \n",
              "71                                Retail Sales Workers   7584940.0       0.20   \n",
              "73   Sales Representatives, Wholesale and Manufactu...   1564230.0       0.10   \n",
              "75       Office and Administrative Support Occupations  18674770.0       0.15   \n",
              "76   Supervisors of Office and Administrative Suppo...   1495440.0       0.10   \n",
              "78                                    Financial Clerks   2824120.0       0.05   \n",
              "79                       Information and Record Clerks   5615960.0       0.10   \n",
              "80   Material Recording, Scheduling, Dispatching, a...   2306600.0       0.20   \n",
              "81           Secretaries and Administrative Assistants   3144510.0       0.10   \n",
              "82     Other Office and Administrative Support Workers   3235430.0       0.15   \n",
              "87             Construction and Extraction Occupations   6075520.0       0.70   \n",
              "93   Installation, Maintenance, and Repair Occupations   5823400.0       0.65   \n",
              "96   Vehicle and Mobile Equipment Mechanics, Instal...   1645580.0       0.65   \n",
              "97   Other Installation, Maintenance, and Repair Oc...   3122550.0       0.65   \n",
              "98                              Production Occupations   8738980.0       0.65   \n",
              "100                         Assemblers and Fabricators   1903910.0       0.65   \n",
              "102                  Metal Workers and Plastic Workers   1644250.0       0.65   \n",
              "107                       Other Production Occupations   2531940.0       0.65   \n",
              "108     Transportation and Material Moving Occupations  13560460.0       0.65   \n",
              "111                            Motor Vehicle Operators   4315740.0       0.70   \n",
              "115                            Material Moving Workers   7896560.0       0.70   \n",
              "\n",
              "                                           explanation  group  solo  \\\n",
              "3    Operations Specialties Managers often require ...   0.50  0.45   \n",
              "5    Business and Financial Operations Occupations ...   0.30  0.65   \n",
              "6    Business Operations Specialists often work in ...   0.50  0.45   \n",
              "7    Financial Specialists primarily work with data...   0.30  0.65   \n",
              "8    Computer and Mathematical Occupations primaril...   0.25  0.70   \n",
              "9    The occupation code 15-1200 refers to Computer...   0.25  0.70   \n",
              "53   Cooks and Food Preparation Workers require a h...   0.30  0.10   \n",
              "55   The occupation of Other Food Preparation and S...   0.30  0.05   \n",
              "56   Building and Grounds Cleaning and Maintenance ...   0.20  0.10   \n",
              "58   Building Cleaning and Pest Control Workers req...   0.20  0.10   \n",
              "59   Grounds Maintenance Workers require a high lev...   0.20  0.10   \n",
              "71   Retail Sales Workers require a moderate level ...   0.60  0.20   \n",
              "73   Sales Representatives, Wholesale and Manufactu...   0.60  0.30   \n",
              "75   Office and Administrative Support Occupations ...   0.25  0.60   \n",
              "76   Supervisors of Office and Administrative Suppo...   0.50  0.40   \n",
              "78   Financial Clerks primarily perform tasks that ...   0.25  0.70   \n",
              "79   Information and Record Clerks primarily perfor...   0.20  0.70   \n",
              "80   The occupation of Material Recording, Scheduli...   0.20  0.60   \n",
              "81   Secretaries and Administrative Assistants prim...   0.20  0.70   \n",
              "82   The occupation of Other Office and Administrat...   0.25  0.60   \n",
              "87   Construction and extraction occupations requir...   0.20  0.10   \n",
              "93   Installation, Maintenance, and Repair Occupati...   0.20  0.15   \n",
              "96   Vehicle and Mobile Equipment Mechanics, Instal...   0.20  0.15   \n",
              "97   The occupation code 49-9000 includes jobs that...   0.20  0.15   \n",
              "98   Production occupations often involve a high de...   0.20  0.15   \n",
              "100  Assemblers and Fabricators primarily engage in...   0.20  0.15   \n",
              "102  Metal and Plastic Workers often require a high...   0.20  0.15   \n",
              "107  The occupation code 51-9000, Other Production ...   0.20  0.15   \n",
              "108  Transportation and Material Moving Occupations...   0.20  0.15   \n",
              "111  Motor Vehicle Operators primarily require high...   0.20  0.10   \n",
              "115  Material Moving Workers, as per the Occupation...   0.20  0.10   \n",
              "\n",
              "     vulnerability  \n",
              "3             0.60  \n",
              "5             0.60  \n",
              "6             0.60  \n",
              "7             0.70  \n",
              "8             0.80  \n",
              "9             0.80  \n",
              "53            0.70  \n",
              "55            0.60  \n",
              "56            0.60  \n",
              "58            0.60  \n",
              "59            0.60  \n",
              "71            0.70  \n",
              "73            0.70  \n",
              "75            0.70  \n",
              "76            0.60  \n",
              "78            0.85  \n",
              "79            0.85  \n",
              "80            0.80  \n",
              "81            0.80  \n",
              "82            0.70  \n",
              "87            0.60  \n",
              "93            0.60  \n",
              "96            0.70  \n",
              "97            0.70  \n",
              "98            0.85  \n",
              "100           0.85  \n",
              "102           0.80  \n",
              "107           0.85  \n",
              "108           0.85  \n",
              "111           0.85  \n",
              "115           0.85  "
            ],
            "text/html": [
              "\n",
              "  <div id=\"df-47424530-bd9f-41db-bedd-18d0b5886765\" class=\"colab-df-container\">\n",
              "    <div>\n",
              "<style scoped>\n",
              "    .dataframe tbody tr th:only-of-type {\n",
              "        vertical-align: middle;\n",
              "    }\n",
              "\n",
              "    .dataframe tbody tr th {\n",
              "        vertical-align: top;\n",
              "    }\n",
              "\n",
              "    .dataframe thead th {\n",
              "        text-align: right;\n",
              "    }\n",
              "</style>\n",
              "<table border=\"1\" class=\"dataframe\">\n",
              "  <thead>\n",
              "    <tr style=\"text-align: right;\">\n",
              "      <th></th>\n",
              "      <th>Jobs Lost</th>\n",
              "      <th>Jobs Remaining</th>\n",
              "      <th>OCC_CODE</th>\n",
              "      <th>OCC_TITLE</th>\n",
              "      <th>TOT_EMP</th>\n",
              "      <th>dexterity</th>\n",
              "      <th>explanation</th>\n",
              "      <th>group</th>\n",
              "      <th>solo</th>\n",
              "      <th>vulnerability</th>\n",
              "    </tr>\n",
              "  </thead>\n",
              "  <tbody>\n",
              "    <tr>\n",
              "      <th>3</th>\n",
              "      <td>626942.700</td>\n",
              "      <td>1.695067e+06</td>\n",
              "      <td>11-3000</td>\n",
              "      <td>Operations Specialties Managers</td>\n",
              "      <td>2322010.0</td>\n",
              "      <td>0.05</td>\n",
              "      <td>Operations Specialties Managers often require ...</td>\n",
              "      <td>0.50</td>\n",
              "      <td>0.45</td>\n",
              "      <td>0.60</td>\n",
              "    </tr>\n",
              "    <tr>\n",
              "      <th>5</th>\n",
              "      <td>3774310.800</td>\n",
              "      <td>5.903409e+06</td>\n",
              "      <td>13-0000</td>\n",
              "      <td>Business and Financial Operations Occupations</td>\n",
              "      <td>9677720.0</td>\n",
              "      <td>0.05</td>\n",
              "      <td>Business and Financial Operations Occupations ...</td>\n",
              "      <td>0.30</td>\n",
              "      <td>0.65</td>\n",
              "      <td>0.60</td>\n",
              "    </tr>\n",
              "    <tr>\n",
              "      <th>6</th>\n",
              "      <td>1798418.700</td>\n",
              "      <td>4.862391e+06</td>\n",
              "      <td>13-1000</td>\n",
              "      <td>Business Operations Specialists</td>\n",
              "      <td>6660810.0</td>\n",
              "      <td>0.05</td>\n",
              "      <td>Business Operations Specialists often work in ...</td>\n",
              "      <td>0.50</td>\n",
              "      <td>0.45</td>\n",
              "      <td>0.60</td>\n",
              "    </tr>\n",
              "    <tr>\n",
              "      <th>7</th>\n",
              "      <td>1372694.050</td>\n",
              "      <td>1.644216e+06</td>\n",
              "      <td>13-2000</td>\n",
              "      <td>Financial Specialists</td>\n",
              "      <td>3016910.0</td>\n",
              "      <td>0.05</td>\n",
              "      <td>Financial Specialists primarily work with data...</td>\n",
              "      <td>0.30</td>\n",
              "      <td>0.65</td>\n",
              "      <td>0.70</td>\n",
              "    </tr>\n",
              "    <tr>\n",
              "      <th>8</th>\n",
              "      <td>2802189.600</td>\n",
              "      <td>2.201720e+06</td>\n",
              "      <td>15-0000</td>\n",
              "      <td>Computer and Mathematical Occupations</td>\n",
              "      <td>5003910.0</td>\n",
              "      <td>0.05</td>\n",
              "      <td>Computer and Mathematical Occupations primaril...</td>\n",
              "      <td>0.25</td>\n",
              "      <td>0.70</td>\n",
              "      <td>0.80</td>\n",
              "    </tr>\n",
              "    <tr>\n",
              "      <th>9</th>\n",
              "      <td>2619400.000</td>\n",
              "      <td>2.058100e+06</td>\n",
              "      <td>15-1200</td>\n",
              "      <td>Computer Occupations</td>\n",
              "      <td>4677500.0</td>\n",
              "      <td>0.05</td>\n",
              "      <td>The occupation code 15-1200 refers to Computer...</td>\n",
              "      <td>0.25</td>\n",
              "      <td>0.70</td>\n",
              "      <td>0.80</td>\n",
              "    </tr>\n",
              "    <tr>\n",
              "      <th>53</th>\n",
              "      <td>246516.900</td>\n",
              "      <td>3.275153e+06</td>\n",
              "      <td>35-2000</td>\n",
              "      <td>Cooks and Food Preparation Workers</td>\n",
              "      <td>3521670.0</td>\n",
              "      <td>0.60</td>\n",
              "      <td>Cooks and Food Preparation Workers require a h...</td>\n",
              "      <td>0.30</td>\n",
              "      <td>0.10</td>\n",
              "      <td>0.70</td>\n",
              "    </tr>\n",
              "    <tr>\n",
              "      <th>55</th>\n",
              "      <td>40618.500</td>\n",
              "      <td>1.313332e+06</td>\n",
              "      <td>35-9000</td>\n",
              "      <td>Other Food Preparation and Serving Related Wor...</td>\n",
              "      <td>1353950.0</td>\n",
              "      <td>0.65</td>\n",
              "      <td>The occupation of Other Food Preparation and S...</td>\n",
              "      <td>0.30</td>\n",
              "      <td>0.05</td>\n",
              "      <td>0.60</td>\n",
              "    </tr>\n",
              "    <tr>\n",
              "      <th>56</th>\n",
              "      <td>258981.000</td>\n",
              "      <td>4.057369e+06</td>\n",
              "      <td>37-0000</td>\n",
              "      <td>Building and Grounds Cleaning and Maintenance ...</td>\n",
              "      <td>4316350.0</td>\n",
              "      <td>0.70</td>\n",
              "      <td>Building and Grounds Cleaning and Maintenance ...</td>\n",
              "      <td>0.20</td>\n",
              "      <td>0.10</td>\n",
              "      <td>0.60</td>\n",
              "    </tr>\n",
              "    <tr>\n",
              "      <th>58</th>\n",
              "      <td>181591.200</td>\n",
              "      <td>2.844929e+06</td>\n",
              "      <td>37-2000</td>\n",
              "      <td>Building Cleaning and Pest Control Workers</td>\n",
              "      <td>3026520.0</td>\n",
              "      <td>0.70</td>\n",
              "      <td>Building Cleaning and Pest Control Workers req...</td>\n",
              "      <td>0.20</td>\n",
              "      <td>0.10</td>\n",
              "      <td>0.60</td>\n",
              "    </tr>\n",
              "    <tr>\n",
              "      <th>59</th>\n",
              "      <td>60069.600</td>\n",
              "      <td>9.410904e+05</td>\n",
              "      <td>37-3000</td>\n",
              "      <td>Grounds Maintenance Workers</td>\n",
              "      <td>1001160.0</td>\n",
              "      <td>0.70</td>\n",
              "      <td>Grounds Maintenance Workers require a high lev...</td>\n",
              "      <td>0.20</td>\n",
              "      <td>0.10</td>\n",
              "      <td>0.60</td>\n",
              "    </tr>\n",
              "    <tr>\n",
              "      <th>71</th>\n",
              "      <td>1061891.600</td>\n",
              "      <td>6.523048e+06</td>\n",
              "      <td>41-2000</td>\n",
              "      <td>Retail Sales Workers</td>\n",
              "      <td>7584940.0</td>\n",
              "      <td>0.20</td>\n",
              "      <td>Retail Sales Workers require a moderate level ...</td>\n",
              "      <td>0.60</td>\n",
              "      <td>0.20</td>\n",
              "      <td>0.70</td>\n",
              "    </tr>\n",
              "    <tr>\n",
              "      <th>73</th>\n",
              "      <td>328488.300</td>\n",
              "      <td>1.235742e+06</td>\n",
              "      <td>41-4000</td>\n",
              "      <td>Sales Representatives, Wholesale and Manufactu...</td>\n",
              "      <td>1564230.0</td>\n",
              "      <td>0.10</td>\n",
              "      <td>Sales Representatives, Wholesale and Manufactu...</td>\n",
              "      <td>0.60</td>\n",
              "      <td>0.30</td>\n",
              "      <td>0.70</td>\n",
              "    </tr>\n",
              "    <tr>\n",
              "      <th>75</th>\n",
              "      <td>7843403.400</td>\n",
              "      <td>1.083137e+07</td>\n",
              "      <td>43-0000</td>\n",
              "      <td>Office and Administrative Support Occupations</td>\n",
              "      <td>18674770.0</td>\n",
              "      <td>0.15</td>\n",
              "      <td>Office and Administrative Support Occupations ...</td>\n",
              "      <td>0.25</td>\n",
              "      <td>0.60</td>\n",
              "      <td>0.70</td>\n",
              "    </tr>\n",
              "    <tr>\n",
              "      <th>76</th>\n",
              "      <td>358905.600</td>\n",
              "      <td>1.136534e+06</td>\n",
              "      <td>43-1000</td>\n",
              "      <td>Supervisors of Office and Administrative Suppo...</td>\n",
              "      <td>1495440.0</td>\n",
              "      <td>0.10</td>\n",
              "      <td>Supervisors of Office and Administrative Suppo...</td>\n",
              "      <td>0.50</td>\n",
              "      <td>0.40</td>\n",
              "      <td>0.60</td>\n",
              "    </tr>\n",
              "    <tr>\n",
              "      <th>78</th>\n",
              "      <td>1680351.400</td>\n",
              "      <td>1.143769e+06</td>\n",
              "      <td>43-3000</td>\n",
              "      <td>Financial Clerks</td>\n",
              "      <td>2824120.0</td>\n",
              "      <td>0.05</td>\n",
              "      <td>Financial Clerks primarily perform tasks that ...</td>\n",
              "      <td>0.25</td>\n",
              "      <td>0.70</td>\n",
              "      <td>0.85</td>\n",
              "    </tr>\n",
              "    <tr>\n",
              "      <th>79</th>\n",
              "      <td>3341496.200</td>\n",
              "      <td>2.274464e+06</td>\n",
              "      <td>43-4000</td>\n",
              "      <td>Information and Record Clerks</td>\n",
              "      <td>5615960.0</td>\n",
              "      <td>0.10</td>\n",
              "      <td>Information and Record Clerks primarily perfor...</td>\n",
              "      <td>0.20</td>\n",
              "      <td>0.70</td>\n",
              "      <td>0.85</td>\n",
              "    </tr>\n",
              "    <tr>\n",
              "      <th>80</th>\n",
              "      <td>1107168.000</td>\n",
              "      <td>1.199432e+06</td>\n",
              "      <td>43-5000</td>\n",
              "      <td>Material Recording, Scheduling, Dispatching, a...</td>\n",
              "      <td>2306600.0</td>\n",
              "      <td>0.20</td>\n",
              "      <td>The occupation of Material Recording, Scheduli...</td>\n",
              "      <td>0.20</td>\n",
              "      <td>0.60</td>\n",
              "      <td>0.80</td>\n",
              "    </tr>\n",
              "    <tr>\n",
              "      <th>81</th>\n",
              "      <td>1760925.600</td>\n",
              "      <td>1.383584e+06</td>\n",
              "      <td>43-6000</td>\n",
              "      <td>Secretaries and Administrative Assistants</td>\n",
              "      <td>3144510.0</td>\n",
              "      <td>0.10</td>\n",
              "      <td>Secretaries and Administrative Assistants prim...</td>\n",
              "      <td>0.20</td>\n",
              "      <td>0.70</td>\n",
              "      <td>0.80</td>\n",
              "    </tr>\n",
              "    <tr>\n",
              "      <th>82</th>\n",
              "      <td>1358880.600</td>\n",
              "      <td>1.876549e+06</td>\n",
              "      <td>43-9000</td>\n",
              "      <td>Other Office and Administrative Support Workers</td>\n",
              "      <td>3235430.0</td>\n",
              "      <td>0.15</td>\n",
              "      <td>The occupation of Other Office and Administrat...</td>\n",
              "      <td>0.25</td>\n",
              "      <td>0.60</td>\n",
              "      <td>0.70</td>\n",
              "    </tr>\n",
              "    <tr>\n",
              "      <th>87</th>\n",
              "      <td>364531.200</td>\n",
              "      <td>5.710989e+06</td>\n",
              "      <td>47-0000</td>\n",
              "      <td>Construction and Extraction Occupations</td>\n",
              "      <td>6075520.0</td>\n",
              "      <td>0.70</td>\n",
              "      <td>Construction and extraction occupations requir...</td>\n",
              "      <td>0.20</td>\n",
              "      <td>0.10</td>\n",
              "      <td>0.60</td>\n",
              "    </tr>\n",
              "    <tr>\n",
              "      <th>93</th>\n",
              "      <td>524106.000</td>\n",
              "      <td>5.299294e+06</td>\n",
              "      <td>49-0000</td>\n",
              "      <td>Installation, Maintenance, and Repair Occupations</td>\n",
              "      <td>5823400.0</td>\n",
              "      <td>0.65</td>\n",
              "      <td>Installation, Maintenance, and Repair Occupati...</td>\n",
              "      <td>0.20</td>\n",
              "      <td>0.15</td>\n",
              "      <td>0.60</td>\n",
              "    </tr>\n",
              "    <tr>\n",
              "      <th>96</th>\n",
              "      <td>172785.900</td>\n",
              "      <td>1.472794e+06</td>\n",
              "      <td>49-3000</td>\n",
              "      <td>Vehicle and Mobile Equipment Mechanics, Instal...</td>\n",
              "      <td>1645580.0</td>\n",
              "      <td>0.65</td>\n",
              "      <td>Vehicle and Mobile Equipment Mechanics, Instal...</td>\n",
              "      <td>0.20</td>\n",
              "      <td>0.15</td>\n",
              "      <td>0.70</td>\n",
              "    </tr>\n",
              "    <tr>\n",
              "      <th>97</th>\n",
              "      <td>327867.750</td>\n",
              "      <td>2.794682e+06</td>\n",
              "      <td>49-9000</td>\n",
              "      <td>Other Installation, Maintenance, and Repair Oc...</td>\n",
              "      <td>3122550.0</td>\n",
              "      <td>0.65</td>\n",
              "      <td>The occupation code 49-9000 includes jobs that...</td>\n",
              "      <td>0.20</td>\n",
              "      <td>0.15</td>\n",
              "      <td>0.70</td>\n",
              "    </tr>\n",
              "    <tr>\n",
              "      <th>98</th>\n",
              "      <td>1114219.950</td>\n",
              "      <td>7.624760e+06</td>\n",
              "      <td>51-0000</td>\n",
              "      <td>Production Occupations</td>\n",
              "      <td>8738980.0</td>\n",
              "      <td>0.65</td>\n",
              "      <td>Production occupations often involve a high de...</td>\n",
              "      <td>0.20</td>\n",
              "      <td>0.15</td>\n",
              "      <td>0.85</td>\n",
              "    </tr>\n",
              "    <tr>\n",
              "      <th>100</th>\n",
              "      <td>242748.525</td>\n",
              "      <td>1.661161e+06</td>\n",
              "      <td>51-2000</td>\n",
              "      <td>Assemblers and Fabricators</td>\n",
              "      <td>1903910.0</td>\n",
              "      <td>0.65</td>\n",
              "      <td>Assemblers and Fabricators primarily engage in...</td>\n",
              "      <td>0.20</td>\n",
              "      <td>0.15</td>\n",
              "      <td>0.85</td>\n",
              "    </tr>\n",
              "    <tr>\n",
              "      <th>102</th>\n",
              "      <td>197310.000</td>\n",
              "      <td>1.446940e+06</td>\n",
              "      <td>51-4000</td>\n",
              "      <td>Metal Workers and Plastic Workers</td>\n",
              "      <td>1644250.0</td>\n",
              "      <td>0.65</td>\n",
              "      <td>Metal and Plastic Workers often require a high...</td>\n",
              "      <td>0.20</td>\n",
              "      <td>0.15</td>\n",
              "      <td>0.80</td>\n",
              "    </tr>\n",
              "    <tr>\n",
              "      <th>107</th>\n",
              "      <td>322822.350</td>\n",
              "      <td>2.209118e+06</td>\n",
              "      <td>51-9000</td>\n",
              "      <td>Other Production Occupations</td>\n",
              "      <td>2531940.0</td>\n",
              "      <td>0.65</td>\n",
              "      <td>The occupation code 51-9000, Other Production ...</td>\n",
              "      <td>0.20</td>\n",
              "      <td>0.15</td>\n",
              "      <td>0.85</td>\n",
              "    </tr>\n",
              "    <tr>\n",
              "      <th>108</th>\n",
              "      <td>1728958.650</td>\n",
              "      <td>1.183150e+07</td>\n",
              "      <td>53-0000</td>\n",
              "      <td>Transportation and Material Moving Occupations</td>\n",
              "      <td>13560460.0</td>\n",
              "      <td>0.65</td>\n",
              "      <td>Transportation and Material Moving Occupations...</td>\n",
              "      <td>0.20</td>\n",
              "      <td>0.15</td>\n",
              "      <td>0.85</td>\n",
              "    </tr>\n",
              "    <tr>\n",
              "      <th>111</th>\n",
              "      <td>366837.900</td>\n",
              "      <td>3.948902e+06</td>\n",
              "      <td>53-3000</td>\n",
              "      <td>Motor Vehicle Operators</td>\n",
              "      <td>4315740.0</td>\n",
              "      <td>0.70</td>\n",
              "      <td>Motor Vehicle Operators primarily require high...</td>\n",
              "      <td>0.20</td>\n",
              "      <td>0.10</td>\n",
              "      <td>0.85</td>\n",
              "    </tr>\n",
              "    <tr>\n",
              "      <th>115</th>\n",
              "      <td>671207.600</td>\n",
              "      <td>7.225352e+06</td>\n",
              "      <td>53-7000</td>\n",
              "      <td>Material Moving Workers</td>\n",
              "      <td>7896560.0</td>\n",
              "      <td>0.70</td>\n",
              "      <td>Material Moving Workers, as per the Occupation...</td>\n",
              "      <td>0.20</td>\n",
              "      <td>0.10</td>\n",
              "      <td>0.85</td>\n",
              "    </tr>\n",
              "  </tbody>\n",
              "</table>\n",
              "</div>\n",
              "    <div class=\"colab-df-buttons\">\n",
              "\n",
              "  <div class=\"colab-df-container\">\n",
              "    <button class=\"colab-df-convert\" onclick=\"convertToInteractive('df-47424530-bd9f-41db-bedd-18d0b5886765')\"\n",
              "            title=\"Convert this dataframe to an interactive table.\"\n",
              "            style=\"display:none;\">\n",
              "\n",
              "  <svg xmlns=\"http://www.w3.org/2000/svg\" height=\"24px\" viewBox=\"0 -960 960 960\">\n",
              "    <path d=\"M120-120v-720h720v720H120Zm60-500h600v-160H180v160Zm220 220h160v-160H400v160Zm0 220h160v-160H400v160ZM180-400h160v-160H180v160Zm440 0h160v-160H620v160ZM180-180h160v-160H180v160Zm440 0h160v-160H620v160Z\"/>\n",
              "  </svg>\n",
              "    </button>\n",
              "\n",
              "  <style>\n",
              "    .colab-df-container {\n",
              "      display:flex;\n",
              "      gap: 12px;\n",
              "    }\n",
              "\n",
              "    .colab-df-convert {\n",
              "      background-color: #E8F0FE;\n",
              "      border: none;\n",
              "      border-radius: 50%;\n",
              "      cursor: pointer;\n",
              "      display: none;\n",
              "      fill: #1967D2;\n",
              "      height: 32px;\n",
              "      padding: 0 0 0 0;\n",
              "      width: 32px;\n",
              "    }\n",
              "\n",
              "    .colab-df-convert:hover {\n",
              "      background-color: #E2EBFA;\n",
              "      box-shadow: 0px 1px 2px rgba(60, 64, 67, 0.3), 0px 1px 3px 1px rgba(60, 64, 67, 0.15);\n",
              "      fill: #174EA6;\n",
              "    }\n",
              "\n",
              "    .colab-df-buttons div {\n",
              "      margin-bottom: 4px;\n",
              "    }\n",
              "\n",
              "    [theme=dark] .colab-df-convert {\n",
              "      background-color: #3B4455;\n",
              "      fill: #D2E3FC;\n",
              "    }\n",
              "\n",
              "    [theme=dark] .colab-df-convert:hover {\n",
              "      background-color: #434B5C;\n",
              "      box-shadow: 0px 1px 3px 1px rgba(0, 0, 0, 0.15);\n",
              "      filter: drop-shadow(0px 1px 2px rgba(0, 0, 0, 0.3));\n",
              "      fill: #FFFFFF;\n",
              "    }\n",
              "  </style>\n",
              "\n",
              "    <script>\n",
              "      const buttonEl =\n",
              "        document.querySelector('#df-47424530-bd9f-41db-bedd-18d0b5886765 button.colab-df-convert');\n",
              "      buttonEl.style.display =\n",
              "        google.colab.kernel.accessAllowed ? 'block' : 'none';\n",
              "\n",
              "      async function convertToInteractive(key) {\n",
              "        const element = document.querySelector('#df-47424530-bd9f-41db-bedd-18d0b5886765');\n",
              "        const dataTable =\n",
              "          await google.colab.kernel.invokeFunction('convertToInteractive',\n",
              "                                                    [key], {});\n",
              "        if (!dataTable) return;\n",
              "\n",
              "        const docLinkHtml = 'Like what you see? Visit the ' +\n",
              "          '<a target=\"_blank\" href=https://colab.research.google.com/notebooks/data_table.ipynb>data table notebook</a>'\n",
              "          + ' to learn more about interactive tables.';\n",
              "        element.innerHTML = '';\n",
              "        dataTable['output_type'] = 'display_data';\n",
              "        await google.colab.output.renderOutput(dataTable, element);\n",
              "        const docLink = document.createElement('div');\n",
              "        docLink.innerHTML = docLinkHtml;\n",
              "        element.appendChild(docLink);\n",
              "      }\n",
              "    </script>\n",
              "  </div>\n",
              "\n",
              "\n",
              "<div id=\"df-ef729fe5-0f7f-4ffa-8407-891d7e23725b\">\n",
              "  <button class=\"colab-df-quickchart\" onclick=\"quickchart('df-ef729fe5-0f7f-4ffa-8407-891d7e23725b')\"\n",
              "            title=\"Suggest charts\"\n",
              "            style=\"display:none;\">\n",
              "\n",
              "<svg xmlns=\"http://www.w3.org/2000/svg\" height=\"24px\"viewBox=\"0 0 24 24\"\n",
              "     width=\"24px\">\n",
              "    <g>\n",
              "        <path d=\"M19 3H5c-1.1 0-2 .9-2 2v14c0 1.1.9 2 2 2h14c1.1 0 2-.9 2-2V5c0-1.1-.9-2-2-2zM9 17H7v-7h2v7zm4 0h-2V7h2v10zm4 0h-2v-4h2v4z\"/>\n",
              "    </g>\n",
              "</svg>\n",
              "  </button>\n",
              "\n",
              "<style>\n",
              "  .colab-df-quickchart {\n",
              "      --bg-color: #E8F0FE;\n",
              "      --fill-color: #1967D2;\n",
              "      --hover-bg-color: #E2EBFA;\n",
              "      --hover-fill-color: #174EA6;\n",
              "      --disabled-fill-color: #AAA;\n",
              "      --disabled-bg-color: #DDD;\n",
              "  }\n",
              "\n",
              "  [theme=dark] .colab-df-quickchart {\n",
              "      --bg-color: #3B4455;\n",
              "      --fill-color: #D2E3FC;\n",
              "      --hover-bg-color: #434B5C;\n",
              "      --hover-fill-color: #FFFFFF;\n",
              "      --disabled-bg-color: #3B4455;\n",
              "      --disabled-fill-color: #666;\n",
              "  }\n",
              "\n",
              "  .colab-df-quickchart {\n",
              "    background-color: var(--bg-color);\n",
              "    border: none;\n",
              "    border-radius: 50%;\n",
              "    cursor: pointer;\n",
              "    display: none;\n",
              "    fill: var(--fill-color);\n",
              "    height: 32px;\n",
              "    padding: 0;\n",
              "    width: 32px;\n",
              "  }\n",
              "\n",
              "  .colab-df-quickchart:hover {\n",
              "    background-color: var(--hover-bg-color);\n",
              "    box-shadow: 0 1px 2px rgba(60, 64, 67, 0.3), 0 1px 3px 1px rgba(60, 64, 67, 0.15);\n",
              "    fill: var(--button-hover-fill-color);\n",
              "  }\n",
              "\n",
              "  .colab-df-quickchart-complete:disabled,\n",
              "  .colab-df-quickchart-complete:disabled:hover {\n",
              "    background-color: var(--disabled-bg-color);\n",
              "    fill: var(--disabled-fill-color);\n",
              "    box-shadow: none;\n",
              "  }\n",
              "\n",
              "  .colab-df-spinner {\n",
              "    border: 2px solid var(--fill-color);\n",
              "    border-color: transparent;\n",
              "    border-bottom-color: var(--fill-color);\n",
              "    animation:\n",
              "      spin 1s steps(1) infinite;\n",
              "  }\n",
              "\n",
              "  @keyframes spin {\n",
              "    0% {\n",
              "      border-color: transparent;\n",
              "      border-bottom-color: var(--fill-color);\n",
              "      border-left-color: var(--fill-color);\n",
              "    }\n",
              "    20% {\n",
              "      border-color: transparent;\n",
              "      border-left-color: var(--fill-color);\n",
              "      border-top-color: var(--fill-color);\n",
              "    }\n",
              "    30% {\n",
              "      border-color: transparent;\n",
              "      border-left-color: var(--fill-color);\n",
              "      border-top-color: var(--fill-color);\n",
              "      border-right-color: var(--fill-color);\n",
              "    }\n",
              "    40% {\n",
              "      border-color: transparent;\n",
              "      border-right-color: var(--fill-color);\n",
              "      border-top-color: var(--fill-color);\n",
              "    }\n",
              "    60% {\n",
              "      border-color: transparent;\n",
              "      border-right-color: var(--fill-color);\n",
              "    }\n",
              "    80% {\n",
              "      border-color: transparent;\n",
              "      border-right-color: var(--fill-color);\n",
              "      border-bottom-color: var(--fill-color);\n",
              "    }\n",
              "    90% {\n",
              "      border-color: transparent;\n",
              "      border-bottom-color: var(--fill-color);\n",
              "    }\n",
              "  }\n",
              "</style>\n",
              "\n",
              "  <script>\n",
              "    async function quickchart(key) {\n",
              "      const quickchartButtonEl =\n",
              "        document.querySelector('#' + key + ' button');\n",
              "      quickchartButtonEl.disabled = true;  // To prevent multiple clicks.\n",
              "      quickchartButtonEl.classList.add('colab-df-spinner');\n",
              "      try {\n",
              "        const charts = await google.colab.kernel.invokeFunction(\n",
              "            'suggestCharts', [key], {});\n",
              "      } catch (error) {\n",
              "        console.error('Error during call to suggestCharts:', error);\n",
              "      }\n",
              "      quickchartButtonEl.classList.remove('colab-df-spinner');\n",
              "      quickchartButtonEl.classList.add('colab-df-quickchart-complete');\n",
              "    }\n",
              "    (() => {\n",
              "      let quickchartButtonEl =\n",
              "        document.querySelector('#df-ef729fe5-0f7f-4ffa-8407-891d7e23725b button');\n",
              "      quickchartButtonEl.style.display =\n",
              "        google.colab.kernel.accessAllowed ? 'block' : 'none';\n",
              "    })();\n",
              "  </script>\n",
              "</div>\n",
              "\n",
              "  <div id=\"id_961e0c12-0d16-410a-ad29-1bbf87264c3e\">\n",
              "    <style>\n",
              "      .colab-df-generate {\n",
              "        background-color: #E8F0FE;\n",
              "        border: none;\n",
              "        border-radius: 50%;\n",
              "        cursor: pointer;\n",
              "        display: none;\n",
              "        fill: #1967D2;\n",
              "        height: 32px;\n",
              "        padding: 0 0 0 0;\n",
              "        width: 32px;\n",
              "      }\n",
              "\n",
              "      .colab-df-generate:hover {\n",
              "        background-color: #E2EBFA;\n",
              "        box-shadow: 0px 1px 2px rgba(60, 64, 67, 0.3), 0px 1px 3px 1px rgba(60, 64, 67, 0.15);\n",
              "        fill: #174EA6;\n",
              "      }\n",
              "\n",
              "      [theme=dark] .colab-df-generate {\n",
              "        background-color: #3B4455;\n",
              "        fill: #D2E3FC;\n",
              "      }\n",
              "\n",
              "      [theme=dark] .colab-df-generate:hover {\n",
              "        background-color: #434B5C;\n",
              "        box-shadow: 0px 1px 3px 1px rgba(0, 0, 0, 0.15);\n",
              "        filter: drop-shadow(0px 1px 2px rgba(0, 0, 0, 0.3));\n",
              "        fill: #FFFFFF;\n",
              "      }\n",
              "    </style>\n",
              "    <button class=\"colab-df-generate\" onclick=\"generateWithVariable('filtered_data')\"\n",
              "            title=\"Generate code using this dataframe.\"\n",
              "            style=\"display:none;\">\n",
              "\n",
              "  <svg xmlns=\"http://www.w3.org/2000/svg\" height=\"24px\"viewBox=\"0 0 24 24\"\n",
              "       width=\"24px\">\n",
              "    <path d=\"M7,19H8.4L18.45,9,17,7.55,7,17.6ZM5,21V16.75L18.45,3.32a2,2,0,0,1,2.83,0l1.4,1.43a1.91,1.91,0,0,1,.58,1.4,1.91,1.91,0,0,1-.58,1.4L9.25,21ZM18.45,9,17,7.55Zm-12,3A5.31,5.31,0,0,0,4.9,8.1,5.31,5.31,0,0,0,1,6.5,5.31,5.31,0,0,0,4.9,4.9,5.31,5.31,0,0,0,6.5,1,5.31,5.31,0,0,0,8.1,4.9,5.31,5.31,0,0,0,12,6.5,5.46,5.46,0,0,0,6.5,12Z\"/>\n",
              "  </svg>\n",
              "    </button>\n",
              "    <script>\n",
              "      (() => {\n",
              "      const buttonEl =\n",
              "        document.querySelector('#id_961e0c12-0d16-410a-ad29-1bbf87264c3e button.colab-df-generate');\n",
              "      buttonEl.style.display =\n",
              "        google.colab.kernel.accessAllowed ? 'block' : 'none';\n",
              "\n",
              "      buttonEl.onclick = () => {\n",
              "        google.colab.notebook.generateWithVariable('filtered_data');\n",
              "      }\n",
              "      })();\n",
              "    </script>\n",
              "  </div>\n",
              "\n",
              "    </div>\n",
              "  </div>\n"
            ],
            "application/vnd.google.colaboratory.intrinsic+json": {
              "type": "dataframe",
              "variable_name": "filtered_data",
              "summary": "{\n  \"name\": \"filtered_data\",\n  \"rows\": 31,\n  \"fields\": [\n    {\n      \"column\": \"Jobs Lost\",\n      \"properties\": {\n        \"dtype\": \"number\",\n        \"std\": 1581569.7594588855,\n        \"min\": 40618.5,\n        \"max\": 7843403.399999999,\n        \"num_unique_values\": 31,\n        \"samples\": [\n          322822.35,\n          1680351.3999999997,\n          327867.75\n        ],\n        \"semantic_type\": \"\",\n        \"description\": \"\"\n      }\n    },\n    {\n      \"column\": \"Jobs Remaining\",\n      \"properties\": {\n        \"dtype\": \"number\",\n        \"std\": 2862065.4240702223,\n        \"min\": 941090.4,\n        \"max\": 11831501.35,\n        \"num_unique_values\": 31,\n        \"samples\": [\n          2209117.65,\n          1143768.6000000003,\n          2794682.25\n        ],\n        \"semantic_type\": \"\",\n        \"description\": \"\"\n      }\n    },\n    {\n      \"column\": \"OCC_CODE\",\n      \"properties\": {\n        \"dtype\": \"string\",\n        \"num_unique_values\": 31,\n        \"samples\": [\n          \"51-9000\",\n          \"43-3000\",\n          \"49-9000\"\n        ],\n        \"semantic_type\": \"\",\n        \"description\": \"\"\n      }\n    },\n    {\n      \"column\": \"OCC_TITLE\",\n      \"properties\": {\n        \"dtype\": \"string\",\n        \"num_unique_values\": 31,\n        \"samples\": [\n          \"Other Production Occupations\",\n          \"Financial Clerks\",\n          \"Other Installation, Maintenance, and Repair Occupations\"\n        ],\n        \"semantic_type\": \"\",\n        \"description\": \"\"\n      }\n    },\n    {\n      \"column\": \"TOT_EMP\",\n      \"properties\": {\n        \"dtype\": \"number\",\n        \"std\": 3858265.320073119,\n        \"min\": 1001160.0,\n        \"max\": 18674770.0,\n        \"num_unique_values\": 31,\n        \"samples\": [\n          2531940.0,\n          2824120.0,\n          3122550.0\n        ],\n        \"semantic_type\": \"\",\n        \"description\": \"\"\n      }\n    },\n    {\n      \"column\": \"dexterity\",\n      \"properties\": {\n        \"dtype\": \"number\",\n        \"std\": 0.292238303113147,\n        \"min\": 0.05,\n        \"max\": 0.7,\n        \"num_unique_values\": 7,\n        \"samples\": [\n          0.05,\n          0.6,\n          0.1\n        ],\n        \"semantic_type\": \"\",\n        \"description\": \"\"\n      }\n    },\n    {\n      \"column\": \"explanation\",\n      \"properties\": {\n        \"dtype\": \"string\",\n        \"num_unique_values\": 31,\n        \"samples\": [\n          \"The occupation code 51-9000, Other Production Occupations, primarily involves tasks that require high dexterity and physical contact, such as operating machinery or assembling products. This accounts for 65% of the work activities. About 15% of the work can be done solo on a computer, such as monitoring production processes or entering data. Around 20% of the work involves group collaboration and communication, such as coordinating with other team members or discussing production plans. However, given the nature of production work and the advancements in automation and AI, this occupation has a high vulnerability to job displacement. It is estimated that 85% of these jobs could potentially be automated, as there is no intrinsic need for humans in most of the tasks involved in production.\",\n          \"Financial Clerks primarily perform tasks that involve solo computer work such as data entry, record keeping, and financial transactions which are highly susceptible to automation. The dexterity component is minimal as the job does not require significant physical labor or fine motor skills. While there is some element of group collaboration and communication, it is not the primary component of the job. Given the nature of the tasks involved and the capabilities of AI, there is a high risk of job displacement in this field.\",\n          \"The occupation code 49-9000 includes jobs that require a high level of manual dexterity and physical contact, such as installation, maintenance, and repair tasks. These tasks often involve handling tools and equipment, which is why a high percentage (65%) is assigned to this category. Solo computer work is relatively low (15%) as these jobs are not typically desk jobs. Group collaboration and communication (20%) is necessary for coordinating tasks and troubleshooting issues. The vulnerability to AI displacement is relatively high (70%) because while AI may not be able to perform all the physical tasks, it can automate diagnostic and some repair tasks, reducing the need for human labor.\"\n        ],\n        \"semantic_type\": \"\",\n        \"description\": \"\"\n      }\n    },\n    {\n      \"column\": \"group\",\n      \"properties\": {\n        \"dtype\": \"number\",\n        \"std\": 0.12441259833174413,\n        \"min\": 0.2,\n        \"max\": 0.6,\n        \"num_unique_values\": 5,\n        \"samples\": [\n          0.3,\n          0.6,\n          0.25\n        ],\n        \"semantic_type\": \"\",\n        \"description\": \"\"\n      }\n    },\n    {\n      \"column\": \"solo\",\n      \"properties\": {\n        \"dtype\": \"number\",\n        \"std\": 0.24946178624330204,\n        \"min\": 0.05,\n        \"max\": 0.7,\n        \"num_unique_values\": 10,\n        \"samples\": [\n          0.4,\n          0.65,\n          0.2\n        ],\n        \"semantic_type\": \"\",\n        \"description\": \"\"\n      }\n    },\n    {\n      \"column\": \"vulnerability\",\n      \"properties\": {\n        \"dtype\": \"number\",\n        \"std\": 0.10233825423354599,\n        \"min\": 0.6,\n        \"max\": 0.85,\n        \"num_unique_values\": 4,\n        \"samples\": [\n          0.7,\n          0.85,\n          0.6\n        ],\n        \"semantic_type\": \"\",\n        \"description\": \"\"\n      }\n    }\n  ]\n}"
            }
          },
          "metadata": {}
        }
      ]
    },
    {
      "cell_type": "markdown",
      "source": [
        "step03:Normality Tests"
      ],
      "metadata": {
        "id": "9q77iu7246Zt"
      }
    },
    {
      "cell_type": "code",
      "source": [
        "import scipy.stats as stats\n",
        "import numpy as np\n",
        "import matplotlib.pyplot as plt\n",
        "import seaborn as sns\n",
        "\n",
        "# Compute the unemployment rate (Jobs Lost / TOT_EMP)\n",
        "filtered_data['unemployment_rate'] = filtered_data['Jobs Lost'] / filtered_data['TOT_EMP']\n",
        "\n",
        "# QQ Plot (Visualizing Normality)\n",
        "plt.figure(figsize=(6, 6))\n",
        "stats.probplot(filtered_data['unemployment_rate'], dist=\"norm\", plot=plt)\n",
        "plt.title(\"QQ Plot of Unemployment Rate\")\n",
        "plt.show()"
      ],
      "metadata": {
        "colab": {
          "base_uri": "https://localhost:8080/",
          "height": 564
        },
        "id": "w_RnV6Ji4zT_",
        "outputId": "fece6b3f-ab5f-449e-f53f-a9412290e743"
      },
      "execution_count": null,
      "outputs": [
        {
          "output_type": "display_data",
          "data": {
            "text/plain": [
              "<Figure size 600x600 with 1 Axes>"
            ],
            "image/png": "[encoded data removed]"
          },
          "metadata": {}
        }
      ]
    },
    {
      "cell_type": "markdown",
      "source": [
        "result: Not normally distributed"
      ],
      "metadata": {
        "id": "-v0Lv7QK4-4j"
      }
    },
    {
      "cell_type": "markdown",
      "source": [
        "step04:Variable test-Levene's test"
      ],
      "metadata": {
        "id": "40---Kvi5DQ8"
      }
    },
    {
      "cell_type": "code",
      "source": [
        "import scipy.stats as stats\n",
        "medium_vulnerability = filtered_data['vulnerability'].median()\n",
        "# Define two groups: High vulnerability (≥ 0.5) and Low vulnerability (< 0.5)\n",
        "high_vulnerability = filtered_data[filtered_data['vulnerability'] >= medium_vulnerability]['unemployment_rate']\n",
        "low_vulnerability = filtered_data[filtered_data['vulnerability'] < medium_vulnerability]['unemployment_rate']\n",
        "\n",
        "# 1. Levene’s Test (robust to non-normality)\n",
        "levene_test = stats.levene(high_vulnerability, low_vulnerability)\n",
        "print(f\"Levene’s Test Statistic: {levene_test.statistic}, p-value: {levene_test.pvalue}\")\n"
      ],
      "metadata": {
        "colab": {
          "base_uri": "https://localhost:8080/"
        },
        "id": "6kbEaT4A44sD",
        "outputId": "ca5acd5d-c254-4337-8cdd-d0ae1d7254cf"
      },
      "execution_count": null,
      "outputs": [
        {
          "output_type": "stream",
          "name": "stdout",
          "text": [
            "Levene’s Test Statistic: 1.6788359470549228, p-value: 0.20529788804480878\n"
          ]
        }
      ]
    },
    {
      "cell_type": "markdown",
      "source": [
        "# 📌 Selection of the Appropriate Statistical Test Based on Given Results\n",
        "\n",
        "We have two key findings from our preliminary tests:\n",
        "\n",
        "| **Test** | **Statistic** | **p-value** | **Interpretation** |\n",
        "|----------|-------------|------------|------------------|\n",
        "| **Levene’s Test** | **1.6788** | **0.2053** ✅ | *Equal variance (p > 0.05)* |\n",
        "| **Normality Test** | - | **p < 0.05** ❌ | *Not Normally Distributed* |\n",
        "\n",
        "---\n",
        "\n",
        "## **📊 Choosing the Correct Statistical Test**\n",
        "Based on these results:\n",
        "1. **The data is not normally distributed** → We should use **non-parametric tests** instead of parametric tests like the t-test or Pearson correlation.\n",
        "2. **Levene’s Test shows equal variance** → If comparing two groups, we can use a test that assumes equal variance.\n",
        "\n",
        "| **Analysis Type** | **Normality Result** | **Variance Result** | **Recommended Test** |\n",
        "|------------------|-----------------|----------------|------------------|\n",
        "| **Correlation Analysis** | ❌ *Not Normal* | - | **Spearman Correlation** (non-parametric alternative to Pearson) |\n",
        "| **Group Comparison (2 Groups)** | ❌ *Not Normal* | ✅ *Equal Variance* | **Mann-Whitney U Test** (non-parametric alternative to t-test) |\n",
        "| **Group Comparison (3+ Groups)** | ❌ *Not Normal* | ✅ *Equal Variance* | **Kruskal-Wallis H Test** (non-parametric alternative to ANOVA) |\n",
        "\n",
        "---\n",
        "\n",
        "## **📌 Final Test Selection**\n",
        "✔ **To test correlation** (*relationship between two continuous variables*):  \n",
        "   → **Spearman Correlation** (since data is non-normal).  \n",
        "\n",
        "✔ **To compare two independent groups** (*e.g., high AI users vs. low AI users*):  \n",
        "   → **Mann-Whitney U Test** (since data is non-normal but variances are equal).  \n",
        "\n",
        "✔ **To compare more than two independent groups**:  \n",
        "   → **Kruskal-Wallis H Test** (*if you have three or more AI usage groups*).  \n",
        "\n",
        "---\n",
        "\n",
        "## **📌 Next Steps**\n",
        "🚀 We will now proceed with the following tests based on the research question:  \n",
        "- ✅ **Spearman Correlation** – to measure the relationship between AI usage and AI trust.  \n",
        "- ✅ **Mann-Whitney U Test** – to compare AI trust levels between high and low AI users.  \n",
        "- ✅ **Kruskal-Wallis H Test** – if comparing AI trust across multiple AI user groups.  \n",
        "\n",
        "📌 **Would you like to proceed with running these statistical tests?** Let me know how you’d like to proceed! 🚀\n"
      ],
      "metadata": {
        "id": "NFA3XVXi5w1X"
      }
    },
    {
      "cell_type": "markdown",
      "source": [
        "step05:Spearman"
      ],
      "metadata": {
        "id": "hQEY-taV5IaN"
      }
    },
    {
      "cell_type": "code",
      "source": [
        "import scipy.stats as stats\n",
        "import pandas as pd\n",
        "import matplotlib.pyplot as plt\n",
        "import seaborn as sns\n",
        "\n",
        "# Step 1: Compute Spearman's Rank Correlation\n",
        "spearman_corr, spearman_p = stats.spearmanr(filtered_data['vulnerability'], filtered_data['unemployment_rate'])\n",
        "\n",
        "# Print the Spearman correlation test results\n",
        "print(f\"Spearman's Rank Correlation Coefficient: {spearman_corr:.4f}\")\n",
        "print(f\"Spearman's Rank Correlation p-value: {spearman_p:.4f}\")\n",
        "\n",
        "# Step 2: Visualize the correlation with a scatter plot and regression line\n",
        "plt.figure(figsize=(8,5))\n",
        "\n",
        "# Create scatter plot\n",
        "sns.regplot(x=filtered_data['vulnerability'],\n",
        "            y=filtered_data['unemployment_rate'],\n",
        "            scatter_kws={'alpha':0.6, 'color': 'orange'},\n",
        "            line_kws={'color':'red'}, ci=None)\n",
        "\n",
        "# Labels and title\n",
        "plt.title(\"Spearman's Correlation: Vulnerability vs. Unemployment Rate\")\n",
        "plt.xlabel(\"Occupation Vulnerability\")\n",
        "plt.ylabel(\"Unemployment Rate\")\n",
        "\n",
        "# Show plot\n",
        "plt.show()"
      ],
      "metadata": {
        "colab": {
          "base_uri": "https://localhost:8080/",
          "height": 523
        },
        "id": "X0YgZViB5FY1",
        "outputId": "3a71d90f-58a7-40e4-a5df-feffc16a4101"
      },
      "execution_count": null,
      "outputs": [
        {
          "output_type": "stream",
          "name": "stdout",
          "text": [
            "Spearman's Rank Correlation Coefficient: 0.3508\n",
            "Spearman's Rank Correlation p-value: 0.0530\n"
          ]
        },
        {
          "output_type": "display_data",
          "data": {
            "text/plain": [
              "<Figure size 800x500 with 1 Axes>"
            ],
            "image/png": "[encoded data removed]"
          },
          "metadata": {}
        }
      ]
    },
    {
      "cell_type": "markdown",
      "source": [
        "step05:Mann-Whitney U Test"
      ],
      "metadata": {
        "id": "CJbWptJ952NK"
      }
    },
    {
      "cell_type": "code",
      "source": [
        "import scipy.stats as stats\n",
        "\n",
        "# Perform one-tailed Mann-Whitney U test (alternative = 'greater' checks if high-vulnerability > low-vulnerability)\n",
        "mannwhitney_stat, mannwhitney_p = stats.mannwhitneyu(high_vulnerability, low_vulnerability, alternative='greater')\n",
        "\n",
        "# Print results\n",
        "print(f\"Mann-Whitney U Test Statistic: {mannwhitney_stat:.4f}\")\n",
        "print(f\"Mann-Whitney U Test p-value: {mannwhitney_p:.4f}\")\n",
        "\n",
        "# Decision based on p-value\n",
        "alpha = 0.05\n",
        "if mannwhitney_p < alpha:\n",
        "    print(\"Reject H0: High-vulnerability occupations have significantly higher unemployment rates.\")\n",
        "else:\n",
        "    print(\"Fail to reject H0: No significant difference in unemployment rates.\")"
      ],
      "metadata": {
        "colab": {
          "base_uri": "https://localhost:8080/"
        },
        "id": "cwbajoS-5zz7",
        "outputId": "80b65206-4d8c-410a-e2b7-dcfeeb7ae0a9"
      },
      "execution_count": null,
      "outputs": [
        {
          "output_type": "stream",
          "name": "stdout",
          "text": [
            "Mann-Whitney U Test Statistic: 159.0000\n",
            "Mann-Whitney U Test p-value: 0.0118\n",
            "Reject H0: High-vulnerability occupations have significantly higher unemployment rates.\n"
          ]
        }
      ]
    },
    {
      "cell_type": "markdown",
      "source": [
        "Conclusion:\n",
        "\n",
        "Based on the hypothesis test results, the Mann-Whitney U test yielded a p-value of 0.0118 (< 0.05), leading us to reject the null hypothesis (H₀) and accept the alternative hypothesis (H₁). This indicates that occupations with high vulnerability to AI automation have significantly higher unemployment rates than those with low vulnerability, suggesting that AI automation has a greater impact on high-vulnerability occupations, increasing their unemployment risk."
      ],
      "metadata": {
        "id": "mqVPZ7nV58nS"
      }
    },
    {
      "cell_type": "code",
      "source": [],
      "metadata": {
        "id": "ZpFyswzL55r3"
      },
      "execution_count": null,
      "outputs": []
    }
  ]
}